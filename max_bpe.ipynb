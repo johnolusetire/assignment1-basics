{
 "cells": [
  {
   "cell_type": "code",
   "execution_count": 37,
   "id": "9d7ce9a0",
   "metadata": {},
   "outputs": [],
   "source": [
    "import regex as re\n",
    "text = open(\"tests/fixtures/tinystories_sample_5M.txt\", \"r\", encoding=\"utf-8\").read()\n",
    "\n",
    "# split corpus on special tokens\n",
    "special_pat = \"|\".join(map(re.escape, ['<|endoftext|>']))\n",
    "\n",
    "parts = re.split(special_pat, text)\n",
    "\n",
    "text = \"\".join(parts)"
   ]
  },
  {
   "cell_type": "code",
   "execution_count": 57,
   "id": "2bea5253",
   "metadata": {},
   "outputs": [],
   "source": [
    "text = open(\"tests/fixtures/tinystories_sample_5M.txt\", \"r\", encoding=\"utf-8\").read()"
   ]
  },
  {
   "cell_type": "code",
   "execution_count": 58,
   "id": "25063b6d",
   "metadata": {},
   "outputs": [],
   "source": [
    "text = 'a<|endoftext|>' + text + '<|endoftext|>a'"
   ]
  },
  {
   "cell_type": "code",
   "execution_count": 59,
   "id": "b1f5a6e6",
   "metadata": {},
   "outputs": [
    {
     "data": {
      "text/plain": [
       "' They cleaned the rocks together and made them shiny.\\nAfter cleaning the rocks, Bob an<|endoftext|>a'"
      ]
     },
     "execution_count": 59,
     "metadata": {},
     "output_type": "execute_result"
    }
   ],
   "source": [
    "text[-100:]"
   ]
  },
  {
   "cell_type": "code",
   "execution_count": 60,
   "id": "84980c35",
   "metadata": {},
   "outputs": [],
   "source": [
    "parts = re.split(special_pat, text)"
   ]
  },
  {
   "cell_type": "code",
   "execution_count": 61,
   "id": "200ffa50",
   "metadata": {},
   "outputs": [
    {
     "data": {
      "text/plain": [
       "['a',\n",
       " 'u don\\'t have to be scared of the loud dog, I\\'ll protect you\". The mole felt so safe with the little girl. She was very kind and the mole soon came to trust her. He leaned against her and she kept him safe. The mole had found his best friend.\\n',\n",
       " '\\nOnce upon a time, in a warm and sunny place, there was a big pit. A little boy named Tom liked to play near the pit. One day, Tom lost his red ball. He was very sad.\\nTom asked his friend, Sam, to help him search for the ball. They looked high and low, but they could not find the ball. Tom said, \"I think my ball fell into the pit.\"\\nSam and Tom went close to the pit. They were scared, but they wanted to find the red ball. They looked into the pit, but it was too dark to see. Tom said, \"We must go in and search for my ball.\"\\nThey went into the pit to search. It was dark and scary. They could not find the ball. They tried to get out, but the pit was too deep. Tom and Sam were stuck in the pit. They called for help, but no one could hear them. They were sad and scared, and they never got out of the pit.\\n',\n",
       " '\\n\\n\\nTom and Lily were playing with their toys in the living room. They liked to build towers and bridges with their blocks and cars. Tom was very proud of his tall tower. He wanted to make it even taller, so he reached for more blocks.\\n\"Tom, can I have some blocks too?\" Lily asked. She wanted to make a bridge for her cars.\\n\"No, these are mine. Go find your own,\" Tom said. He did not want to share with his sister. He pulled the blocks closer to him.\\nLily felt sad and angry. She did not think Tom was being nice. She looked at his tower and had an idea. She decided to pull one of the blocks at the bottom of the tower.\\nSuddenly, the tower fell down with a loud crash. All the blocks and cars scattered on the floor. Tom and Lily were shocked. They felt the floor shake and heard a rumble. It was an earthquake!\\n\"Mommy! Daddy!\" they cried. They were scared and ran to their parents, who were in the kitchen.\\n\"Are you okay, kids?\" Mommy asked. She hugged them and checked if they were hurt.\\n\"We\\'re okay, Mommy. But our toys are broken,\" Lily said.\\n\"I\\'m sorry, Lily. But toys are not important. You are important. We are safe and together. That\\'s what matters,\" Mommy said.\\nTom felt sorry for what he did. He realized he was selfish and mean to his sister. He saw how scared she was during the earthquake. He wanted to make her happy.\\n\"Lily, I\\'m sorry I did not share with you. You can have all the blocks you want. I love you, sister,\" Tom said.\\nLily smiled and hugged him. She forgave him and thanked him. She loved him too.\\nThey went back to the living room and cleaned up their toys. They decided to build something together. They made a big house with a garden and a fence. They put their cars and dolls inside. They were happy and proud of their work.\\nMommy and Daddy came to see their house. They praised them and gave them a treat. It was a lemon cake. It was sour, but they liked it. They learned that sharing is caring, and that family is sweet.\\n',\n",
       " '\\n\\nOnce upon a time there was a little girl named Lucy. She loved to go to the store to buy sweets with her mom and dad. On this special day, Lucy entered the store with her mom and dad, feeling so excited.\\nAs they were looking around, Lucy noticed a little girl playing with a toy in the corner of the store. She gasped in excitement and ran towards her. Lucy asked if she could play too but the little girl said no. She was rather grumpy and was not in the mood to play.\\nLucy\\'s mom saw what was going on and told Lucy, \"Let\\'s try to be peaceful and kind to her. Have patience and understanding. Together, you can both be happy!\"\\nSo, Lucy smiled at the girl and said, \"Can we play together?\" The little girl softened and smiled back. She agreed to share the toy and even let Lucy have a turn first.\\nLucy and the little girl played together happily. In the end, they both learnt an important lesson: be peaceful, kind, and understanding when faced with a conflict. And that is why Lucy and the little girl became great friends.\\n',\n",
       " '\\nOne morning, a cat named Tom woke up. He felt happy because the sun was shining. Tom wanted to start his day, so he did a big stretch. He stretched his legs, his back, and his tail. It felt easy and good.\\nTom went outside to play. He saw his friend, a dog named Max. Max was also stretching in the morning sun. They both felt very happy. They decided to play together and have fun all day.\\nAt the end of the day, Tom and Max were tired. They had played all day and had lots of fun. They said goodbye to each other and went to their homes. Before going to sleep, they both did another easy stretch. Tom knew that tomorrow would be another happy morning.\\n',\n",
       " '\\n\\n\\nLily and Tom were twins who liked to decorate things. They had a big box of crayons, stickers, and glitter. One day, they found a shiny copper pot in the kitchen. It was Mom\\'s pot, but she was not home. Lily and Tom wanted to make it more pretty.\\nThey took the pot to their room and put it on the floor. They opened their box of crayons, stickers, and glitter. They started to draw and stick and sprinkle on the pot. They made colorful shapes and patterns. They thought the pot looked very nice.\\nBut they were clumsy. They did not see that they also made a big mess. They spilled glitter on the floor and the bed. They stuck stickers on the wall and the door. They drew crayons on the window and the dresser. They did not hear Mom come home.\\nMom saw the mess in the kitchen. She saw the glitter, the stickers, and the crayons. She was angry. She followed the trail to their room. She saw the pot. She saw the floor, the bed, the wall, the door, the window, and the dresser. She was very angry.\\nShe said, \"Lily and Tom, what did you do? You ruined my pot and my room. You are very naughty. You have to clean up everything. And you have to say sorry.\"\\nLily and Tom were scared. They did not mean to make Mom angry. They only wanted to decorate the pot. They said, \"Sorry, Mom. We love you. We will clean up. Please don\\'t be mad.\"\\nMom sighed. She was still angry, but she also loved them. She said, \"I love you too, but you have to be careful. You can\\'t touch my things without asking. And you can\\'t make a mess like this. You have to learn to be more tidy and respectful.\"\\nLily and Tom nodded. They hugged Mom and said, \"We will, Mom. We will.\" They took a broom, a dustpan, and a cloth. They started to clean up their mess. They hoped Mom would forgive them. They learned their lesson. They would not decorate Mom\\'s pot again.\\n',\n",
       " '\\n\\nOnce upon a time, there was a king. He was a big and strong king who ruled over his kingdom. One day, he wanted to take a nice and long bath, so he filled up his big bathtub with warm water. He wanted to feel relaxed and so he soaked in the tub for a really long time.\\nWhen he had finished soaking and stepped out of the bathtub, the king noticed that the water had spilled out of the tub and all over the floor. He felt guilty that he had made such a mess, so he quickly grabbed a cloth and began to clean it up.\\nThe king got so hot from cleaning up the mess that he decided to take another soak in the bathtub. He put a lot of bubbles in the water to make it nice and bubbly. He relaxed again and felt all the worries wash away.\\nThe king was so happy that he had been able to clean up the mess he had made and enjoy a nice soak. He dried off and wrapped himself up in a big towel. Then, the king went back to ruling his kingdom and enjoying his lovely baths.\\n',\n",
       " '\\n\\n\\nLily and Max were playing in the park with their mom. They liked to slide, swing, and run on the grass. They also liked to listen to the birds that made whistles in the trees.\\n\"Look, mom, a red bird!\" Lily said, pointing to a cardinal.\\n\"That\\'s a pretty bird, Lily. Do you know what it is called?\" mom asked.\\n\"A cardinal, mom. I learned it in school,\" Lily said proudly.\\n\"Very good, Lily. And do you know what that yellow bird is, Max?\" mom asked, pointing to a canary.\\n\"A canary, mom. I learned it in school, too,\" Max said.\\n\"Wow, you are both very smart. Do you want to learn another bird name?\" mom asked.\\n\"Yes, mom, yes!\" Lily and Max said.\\n\"OK, see that blue bird over there? That\\'s a blue jay. It has a very loud whistle. Can you try to whistle like it?\" mom asked.\\nLily and Max tried to whistle, but they only made funny noises. They laughed and mom laughed, too.\\n\"Whistling is hard, mom. How do you do it?\" Lily asked.\\n\"It takes practice, Lily. Maybe when you are older, you can whistle better. But you know what? You don\\'t need to whistle to have fun. You can sing, or clap, or dance, or make any sound you like,\" mom said.\\n\"I like to sing, mom. Can we sing a song?\" Max asked.\\n\"Sure, Max. What song do you want to sing?\" mom asked.\\n\"How about \\'Twinkle, Twinkle, Little Star\\'?\" Max suggested.\\n\"OK, let\\'s sing it together,\" mom said.\\nThey sang the song and looked at the sky. The sun was shining and the clouds were light and fluffy.\\n\"That was a nice song, mom. But I\\'m feeling sleepy now. Can we nap?\" Lily asked.\\n\"Me too, mom. Can we nap?\" Max asked.\\n\"Of course, my sweeties. Let\\'s go to the car and nap. You had a busy day,\" mom said.\\nThey walked to the car and mom buckled them in their seats. She gave them each a kiss and a hug.\\n\"Sleep well, my loves. I\\'ll wake you up when we get home,\" mom said.\\nLily and Max closed their eyes and fell asleep. They dreamed of birds and stars and whistles. They were happy.\\n',\n",
       " '\\nOnce upon a time, there was a big bow. The bow was very strong and reliable. It was the best bow in the town. Everyone liked the bow and wanted to use it. They knew it would help them do their work.\\nOne day, a man wanted to test the bow. He was not a good man. He wanted to see if the bow was really strong. He pulled and pulled on the bow. He wanted to see if it would break.\\nThe bow did not break because it was strong. But the man did not stop. He pulled harder and harder. At last, the bow broke. The man was not happy. The town was sad. They lost their best bow.\\n']"
      ]
     },
     "execution_count": 61,
     "metadata": {},
     "output_type": "execute_result"
    }
   ],
   "source": [
    "parts[:10]"
   ]
  },
  {
   "cell_type": "code",
   "execution_count": 3,
   "id": "350eca84",
   "metadata": {},
   "outputs": [
    {
     "name": "stdout",
     "output_type": "stream",
     "text": [
      "merge 1/99: (104, 101) -> 256 (b'he') had 148935 occurrences\n",
      "merge 2/99: (32, 116) -> 257 (b' t') had 148857 occurrences\n",
      "merge 3/99: (32, 97) -> 258 (b' a') had 111510 occurrences\n",
      "merge 4/99: (32, 115) -> 259 (b' s') had 76372 occurrences\n",
      "merge 5/99: (32, 119) -> 260 (b' w') had 74350 occurrences\n",
      "merge 6/99: (110, 100) -> 261 (b'nd') had 67904 occurrences\n",
      "merge 7/99: (257, 256) -> 262 (b' the') had 67683 occurrences\n",
      "merge 8/99: (101, 100) -> 263 (b'ed') had 58392 occurrences\n",
      "merge 9/99: (32, 98) -> 264 (b' b') had 52390 occurrences\n",
      "merge 10/99: (257, 111) -> 265 (b' to') had 49394 occurrences\n",
      "merge 11/99: (258, 261) -> 266 (b' and') had 45801 occurrences\n",
      "merge 12/99: (32, 104) -> 267 (b' h') had 42014 occurrences\n",
      "merge 13/99: (32, 102) -> 268 (b' f') had 39838 occurrences\n",
      "merge 14/99: (105, 110) -> 269 (b'in') had 38758 occurrences\n",
      "merge 15/99: (260, 97) -> 270 (b' wa') had 38433 occurrences\n",
      "merge 16/99: (32, 84) -> 271 (b' T') had 38135 occurrences\n",
      "merge 17/99: (105, 116) -> 272 (b'it') had 35067 occurrences\n",
      "merge 18/99: (114, 101) -> 273 (b're') had 34987 occurrences\n",
      "merge 19/99: (111, 117) -> 274 (b'ou') had 33940 occurrences\n",
      "merge 20/99: (32, 108) -> 275 (b' l') had 31280 occurrences\n",
      "merge 21/99: (32, 100) -> 276 (b' d') had 31200 occurrences\n",
      "merge 22/99: (32, 99) -> 277 (b' c') had 29931 occurrences\n",
      "merge 23/99: (32, 112) -> 278 (b' p') had 28815 occurrences\n",
      "merge 24/99: (97, 121) -> 279 (b'ay') had 27693 occurrences\n",
      "merge 25/99: (270, 115) -> 280 (b' was') had 25672 occurrences\n",
      "merge 26/99: (101, 114) -> 281 (b'er') had 25541 occurrences\n",
      "merge 27/99: (32, 109) -> 282 (b' m') had 25538 occurrences\n",
      "merge 28/99: (111, 109) -> 283 (b'om') had 24505 occurrences\n",
      "merge 29/99: (32, 256) -> 284 (b' he') had 24032 occurrences\n",
      "merge 30/99: (271, 256) -> 285 (b' The') had 23628 occurrences\n",
      "merge 31/99: (105, 115) -> 286 (b'is') had 22379 occurrences\n",
      "merge 32/99: (32, 110) -> 287 (b' n') had 21461 occurrences\n",
      "merge 33/99: (111, 110) -> 288 (b'on') had 21326 occurrences\n",
      "merge 34/99: (97, 114) -> 289 (b'ar') had 21175 occurrences\n",
      "merge 35/99: (259, 97) -> 290 (b' sa') had 21022 occurrences\n",
      "merge 36/99: (105, 109) -> 291 (b'im') had 21022 occurrences\n",
      "merge 37/99: (108, 108) -> 292 (b'll') had 20883 occurrences\n",
      "merge 38/99: (105, 100) -> 293 (b'id') had 20507 occurrences\n",
      "merge 39/99: (267, 97) -> 294 (b' ha') had 19290 occurrences\n",
      "merge 40/99: (32, 103) -> 295 (b' g') had 18212 occurrences\n",
      "merge 41/99: (32, 83) -> 296 (b' S') had 18036 occurrences\n",
      "merge 42/99: (97, 116) -> 297 (b'at') had 18013 occurrences\n",
      "merge 43/99: (269, 103) -> 298 (b'ing') had 17789 occurrences\n",
      "merge 44/99: (111, 116) -> 299 (b'ot') had 16913 occurrences\n",
      "merge 45/99: (101, 110) -> 300 (b'en') had 16650 occurrences\n",
      "merge 46/99: (97, 110) -> 301 (b'an') had 15881 occurrences\n",
      "merge 47/99: (108, 101) -> 302 (b'le') had 15740 occurrences\n",
      "merge 48/99: (111, 114) -> 303 (b'or') had 14924 occurrences\n",
      "merge 49/99: (105, 114) -> 304 (b'ir') had 14110 occurrences\n",
      "merge 50/99: (32, 72) -> 305 (b' H') had 13135 occurrences\n",
      "merge 51/99: (97, 109) -> 306 (b'am') had 13102 occurrences\n",
      "merge 52/99: (101, 116) -> 307 (b'et') had 12795 occurrences\n",
      "merge 53/99: (32, 272) -> 308 (b' it') had 12704 occurrences\n",
      "merge 54/99: (257, 104) -> 309 (b' th') had 12679 occurrences\n",
      "merge 55/99: (105, 103) -> 310 (b'ig') had 12315 occurrences\n",
      "merge 56/99: (285, 121) -> 311 (b' They') had 11895 occurrences\n",
      "merge 57/99: (105, 108) -> 312 (b'il') had 11889 occurrences\n",
      "merge 58/99: (32, 269) -> 313 (b' in') had 11618 occurrences\n",
      "merge 59/99: (305, 101) -> 314 (b' He') had 11557 occurrences\n",
      "merge 60/99: (278, 108) -> 315 (b' pl') had 11279 occurrences\n",
      "merge 61/99: (32, 34) -> 316 (b' \"') had 11119 occurrences\n",
      "merge 62/99: (111, 119) -> 317 (b'ow') had 11084 occurrences\n",
      "merge 63/99: (118, 281) -> 318 (b'ver') had 10932 occurrences\n",
      "merge 64/99: (114, 105) -> 319 (b'ri') had 10687 occurrences\n",
      "merge 65/99: (32, 117) -> 320 (b' u') had 10539 occurrences\n",
      "merge 66/99: (117, 116) -> 321 (b'ut') had 10411 occurrences\n",
      "merge 67/99: (276, 279) -> 322 (b' day') had 10237 occurrences\n",
      "merge 68/99: (290, 293) -> 323 (b' said') had 10210 occurrences\n",
      "merge 69/99: (272, 104) -> 324 (b'ith') had 10199 occurrences\n",
      "merge 70/99: (112, 112) -> 325 (b'pp') had 10180 occurrences\n",
      "merge 71/99: (315, 279) -> 326 (b' play') had 10140 occurrences\n",
      "merge 72/99: (264, 101) -> 327 (b' be') had 10107 occurrences\n",
      "merge 73/99: (79, 110) -> 328 (b'On') had 10104 occurrences\n",
      "merge 74/99: (260, 324) -> 329 (b' with') had 10091 occurrences\n",
      "merge 75/99: (32, 111) -> 330 (b' o') had 9950 occurrences\n",
      "merge 76/99: (32, 121) -> 331 (b' y') had 9875 occurrences\n",
      "merge 77/99: (284, 114) -> 332 (b' her') had 9756 occurrences\n",
      "merge 78/99: (32, 114) -> 333 (b' r') had 9750 occurrences\n",
      "merge 79/99: (111, 111) -> 334 (b'oo') had 9695 occurrences\n",
      "merge 80/99: (107, 263) -> 335 (b'ked') had 9621 occurrences\n",
      "merge 81/99: (99, 101) -> 336 (b'ce') had 9237 occurrences\n",
      "merge 82/99: (296, 256) -> 337 (b' She') had 9035 occurrences\n",
      "merge 83/99: (267, 286) -> 338 (b' his') had 9035 occurrences\n",
      "merge 84/99: (32, 73) -> 339 (b' I') had 9003 occurrences\n",
      "merge 85/99: (108, 100) -> 340 (b'ld') had 9000 occurrences\n",
      "merge 86/99: (259, 116) -> 341 (b' st') had 8721 occurrences\n",
      "merge 87/99: (271, 291) -> 342 (b' Tim') had 8615 occurrences\n",
      "merge 88/99: (107, 101) -> 343 (b'ke') had 8547 occurrences\n",
      "merge 89/99: (32, 101) -> 344 (b' e') had 8539 occurrences\n",
      "merge 90/99: (110, 116) -> 345 (b'nt') had 8401 occurrences\n",
      "merge 91/99: (99, 107) -> 346 (b'ck') had 8322 occurrences\n",
      "merge 92/99: (264, 310) -> 347 (b' big') had 8259 occurrences\n",
      "merge 93/99: (318, 121) -> 348 (b'very') had 8162 occurrences\n",
      "merge 94/99: (331, 274) -> 349 (b' you') had 8111 occurrences\n",
      "merge 95/99: (118, 101) -> 350 (b've') had 8067 occurrences\n",
      "merge 96/99: (115, 116) -> 351 (b'st') had 7947 occurrences\n",
      "merge 97/99: (294, 325) -> 352 (b' happ') had 7531 occurrences\n",
      "merge 98/99: (32, 288) -> 353 (b' on') had 7487 occurrences\n",
      "merge 99/99: (101, 261) -> 354 (b'end') had 7479 occurrences\n",
      "Training took 157.25 seconds\n"
     ]
    }
   ],
   "source": [
    "import os\n",
    "import time\n",
    "from new_bpe import RegexTokenizer\n",
    "\n",
    "# create a directory for models, so we don't pollute the current directory\n",
    "os.makedirs(\"models\", exist_ok=True)\n",
    "\n",
    "t0 = time.time()\n",
    "\n",
    "# construct the Tokenizer object and kick off verbose training\n",
    "tokenizer = RegexTokenizer(special_tokens={'<|endoftext|>': 999})\n",
    "tokenizer.train(text, 256 + 100, verbose=True)\n",
    "# writes two files in the models directory: name.model, and name.vocab\n",
    "#prefix = os.path.join(\"models\", \"regex\")\n",
    "#tokenizer.save(prefix)\n",
    "t1 = time.time()\n",
    "\n",
    "print(f\"Training took {t1 - t0:.2f} seconds\")"
   ]
  },
  {
   "cell_type": "code",
   "execution_count": 5,
   "id": "e9aba3c5",
   "metadata": {},
   "outputs": [],
   "source": [
    "import pickle"
   ]
  },
  {
   "cell_type": "code",
   "execution_count": 6,
   "id": "c796a276",
   "metadata": {},
   "outputs": [],
   "source": [
    "p = \"tests/_snapshots/test_train_bpe_special_tokens.pkl\"\n",
    "\n",
    "with open(p, 'rb') as f:\n",
    "    data = pickle.load(f)"
   ]
  },
  {
   "cell_type": "code",
   "execution_count": 9,
   "id": "06286a50",
   "metadata": {},
   "outputs": [],
   "source": [
    "p = \"new9.pkl\"\n",
    "\n",
    "with open(p, 'rb') as f:\n",
    "    data2 = pickle.load(f)"
   ]
  },
  {
   "cell_type": "code",
   "execution_count": 10,
   "id": "7a5a64b8",
   "metadata": {},
   "outputs": [],
   "source": [
    "for i, (a, b) in enumerate(zip(data[\"merges\"], data2[\"merges\"])):\n",
    "    if a != b:\n",
    "        print(f\"Mismatch at idx{i}: ground_truth = {a}, my_merges = {b}\")"
   ]
  },
  {
   "cell_type": "code",
   "execution_count": null,
   "id": "2cef85ba",
   "metadata": {},
   "outputs": [
    {
     "name": "stdout",
     "output_type": "stream",
     "text": [
      "5240722\n",
      "1263005\n",
      "0\n",
      "1263131\n",
      "0\n"
     ]
    }
   ],
   "source": [
    "from collections import Counter\n",
    "from itertools import pairwise\n",
    "\n",
    "PAT = r\"\"\"'(?:[sdmt]|ll|ve|re)| ?\\p{L}+| ?\\p{N}+| ?[^\\s\\p{L}\\p{N}]+|\\s+(?!\\S)|\\s+\"\"\"\n",
    "tok_pat = re.compile(pattern=PAT)\n",
    "input_path = \"tests/fixtures/tinystories_sample_5M.txt\"\n",
    "BLOCK = 64 * 1024 * 1024 # chunk block size\n",
    "pair_counts = Counter()\n",
    "words = []\n",
    "\n",
    "with open(input_path, \"r\", encoding=\"utf-8\") as f:\n",
    "    tail = \"\"\n",
    "\n",
    "    while True:\n",
    "        chunk = f.read(BLOCK)\n",
    "        data = tail + chunk if chunk else tail # append unused tail\n",
    "        if not data:\n",
    "            break\n",
    "        parts = re.split(special_pat, data) # split data into parts using special_tokens as a delimiter\n",
    "        if len(parts) > 1:\n",
    "            tail = parts.pop()  # assign tail to the last part as it might be cutoff\n",
    "        else:\n",
    "            tail = \"\"\n",
    "\n",
    "        # parts is a list of the split sections. \n",
    "        # iterate through each doc\n",
    "        for doc in parts:\n",
    "            # iterate through every match found using the pretokenization pattern\n",
    "            for match in re.finditer(pattern=tok_pat, string=doc):\n",
    "                # prev_id = None\n",
    "                ids = [bytes([b]) for b in match.group().encode(\"utf-8\")]  # list of bytes in the encoded token 'hello' -> [b'h',b'e',b'l',b'l',b'o']\n",
    "                words.append(ids)  # append each list of bytes (ids) to the words list. the words list holds all the splits from the regex pattern\n",
    "                pair_counts.update(pairwise(ids))  # update counter with pairs from each match. same as looping through with zip(ids, ids[1:])\n",
    "        print(len(words))"
   ]
  },
  {
   "cell_type": "code",
   "execution_count": 20,
   "id": "331814ed",
   "metadata": {},
   "outputs": [
    {
     "data": {
      "text/plain": [
       "['\\nOnce upon a time, there was a messy giant named Bob. Bob lived in a big forest with many trees. Bob was always making a mess because he was so big and clumsy. One day, Bob decided he wanted to sell his big rocks to the people in the town.\\nBob walked to the town with a big bag of rocks. He met a little girl named Sue. Sue looked at the rocks and said, \"These rocks are very messy, but I can help you clean them.\" Bob was happy and thanked Sue. They cleaned the rocks together and made them shiny.\\nAfter cleaning the rocks, Bob an\\nOnce upon a time, there was a messy giant named Bob. Bob lived in a big forest with many trees. Bob was always making a mess because he was so big and clumsy. One day, Bob decided he wanted to sell his big rocks to the people in the town.\\nBob walked to the town with a big bag of rocks. He met a little girl named Sue. Sue looked at the rocks and said, \"These rocks are very messy, but I can help you clean them.\" Bob was happy and thanked Sue. They cleaned the rocks together and made them shiny.\\nAfter cleaning the rocks, Bob an']"
      ]
     },
     "execution_count": 20,
     "metadata": {},
     "output_type": "execute_result"
    }
   ],
   "source": [
    "parts"
   ]
  },
  {
   "cell_type": "code",
   "execution_count": 21,
   "id": "ecfe6654",
   "metadata": {},
   "outputs": [
    {
     "data": {
      "text/plain": [
       "'\\nOnce upon a time, there was a messy giant named Bob. Bob lived in a big forest with many trees. Bob was always making a mess because he was so big and clumsy. One day, Bob decided he wanted to sell his big rocks to the people in the town.\\nBob walked to the town with a big bag of rocks. He met a little girl named Sue. Sue looked at the rocks and said, \"These rocks are very messy, but I can help you clean them.\" Bob was happy and thanked Sue. They cleaned the rocks together and made them shiny.\\nAfter cleaning the rocks, Bob an\\nOnce upon a time, there was a messy giant named Bob. Bob lived in a big forest with many trees. Bob was always making a mess because he was so big and clumsy. One day, Bob decided he wanted to sell his big rocks to the people in the town.\\nBob walked to the town with a big bag of rocks. He met a little girl named Sue. Sue looked at the rocks and said, \"These rocks are very messy, but I can help you clean them.\" Bob was happy and thanked Sue. They cleaned the rocks together and made them shiny.\\nAfter cleaning the rocks, Bob an'"
      ]
     },
     "execution_count": 21,
     "metadata": {},
     "output_type": "execute_result"
    }
   ],
   "source": [
    "doc"
   ]
  },
  {
   "cell_type": "code",
   "execution_count": 12,
   "id": "bdfb19dd",
   "metadata": {},
   "outputs": [
    {
     "data": {
      "text/plain": [
       "[((b'h', b'e'), 148950),\n",
       " ((b' ', b't'), 148875),\n",
       " ((b' ', b'a'), 111524),\n",
       " ((b't', b'h'), 101585)]"
      ]
     },
     "execution_count": 12,
     "metadata": {},
     "output_type": "execute_result"
    }
   ],
   "source": [
    "pair_counts.most_common(4)"
   ]
  },
  {
   "cell_type": "code",
   "execution_count": 31,
   "id": "6db6fb25",
   "metadata": {},
   "outputs": [
    {
     "name": "stdout",
     "output_type": "stream",
     "text": [
      "1263005\n",
      "1263131\n"
     ]
    }
   ],
   "source": [
    "PAT = r\"\"\"'(?:[sdmt]|ll|ve|re)| ?\\p{L}+| ?\\p{N}+| ?[^\\s\\p{L}\\p{N}]+|\\s+(?!\\S)|\\s+\"\"\"\n",
    "tok_pat = re.compile(pattern=PAT)\n",
    "input_path = \"tests/fixtures/tinystories_sample_5M.txt\"\n",
    "BLOCK = 64 * 1024 * 1024\n",
    "pair_countss = Counter()\n",
    "words2 = []\n",
    "\n",
    "with open(input_path, \"r\", encoding=\"utf-8\") as f:\n",
    "    buffer = \"\"\n",
    "    \n",
    "    while True:\n",
    "        chunk = f.read(BLOCK)\n",
    "        if not chunk:\n",
    "            # Process remaining buffer\n",
    "            if buffer:\n",
    "                data = buffer\n",
    "            else:\n",
    "                break\n",
    "        else:\n",
    "            data = buffer + chunk\n",
    "            \n",
    "        # Split by special tokens\n",
    "        parts = re.split(special_pat, data)\n",
    "        \n",
    "        if chunk:  # If not end of file\n",
    "            # Keep the last part as buffer (might be incomplete)\n",
    "            buffer = parts.pop()\n",
    "        else:\n",
    "            buffer = \"\"\n",
    "            \n",
    "        # Process complete parts\n",
    "        for doc in parts:\n",
    "            for match in re.finditer(pattern=tok_pat, string=doc):\n",
    "                ids = [bytes([b]) for b in match.group().encode(\"utf-8\")]\n",
    "                words2.append(ids)\n",
    "                pair_countss.update(pairwise(ids))\n",
    "        print(len(words2))"
   ]
  },
  {
   "cell_type": "code",
   "execution_count": 28,
   "id": "d1874a04",
   "metadata": {},
   "outputs": [
    {
     "data": {
      "text/plain": [
       "1263257"
      ]
     },
     "execution_count": 28,
     "metadata": {},
     "output_type": "execute_result"
    }
   ],
   "source": [
    "len(words)"
   ]
  },
  {
   "cell_type": "code",
   "execution_count": 29,
   "id": "74c91389",
   "metadata": {},
   "outputs": [
    {
     "data": {
      "text/plain": [
       "1263131"
      ]
     },
     "execution_count": 29,
     "metadata": {},
     "output_type": "execute_result"
    }
   ],
   "source": [
    "len(words2)"
   ]
  },
  {
   "cell_type": "code",
   "execution_count": 23,
   "id": "c5c68218",
   "metadata": {},
   "outputs": [
    {
     "data": {
      "text/plain": [
       "'\\nOnce upon a time, there was a messy giant named Bob. Bob lived in a big forest with many trees. Bob was always making a mess because he was so big and clumsy. One day, Bob decided he wanted to sell his big rocks to the people in the town.\\nBob walked to the town with a big bag of rocks. He met a little girl named Sue. Sue looked at the rocks and said, \"These rocks are very messy, but I can help you clean them.\" Bob was happy and thanked Sue. They cleaned the rocks together and made them shiny.\\nAfter cleaning the rocks, Bob an'"
      ]
     },
     "execution_count": 23,
     "metadata": {},
     "output_type": "execute_result"
    }
   ],
   "source": [
    "doc"
   ]
  },
  {
   "cell_type": "code",
   "execution_count": 25,
   "id": "2770db5c",
   "metadata": {},
   "outputs": [
    {
     "data": {
      "text/plain": [
       "['\\nOnce upon a time, there was a messy giant named Bob. Bob lived in a big forest with many trees. Bob was always making a mess because he was so big and clumsy. One day, Bob decided he wanted to sell his big rocks to the people in the town.\\nBob walked to the town with a big bag of rocks. He met a little girl named Sue. Sue looked at the rocks and said, \"These rocks are very messy, but I can help you clean them.\" Bob was happy and thanked Sue. They cleaned the rocks together and made them shiny.\\nAfter cleaning the rocks, Bob an']"
      ]
     },
     "execution_count": 25,
     "metadata": {},
     "output_type": "execute_result"
    }
   ],
   "source": [
    "parts"
   ]
  },
  {
   "cell_type": "code",
   "execution_count": 14,
   "id": "cefba55b",
   "metadata": {},
   "outputs": [
    {
     "data": {
      "text/plain": [
       "[((b'h', b'e'), 148935),\n",
       " ((b' ', b't'), 148857),\n",
       " ((b' ', b'a'), 111510),\n",
       " ((b't', b'h'), 101572)]"
      ]
     },
     "execution_count": 14,
     "metadata": {},
     "output_type": "execute_result"
    }
   ],
   "source": [
    "pair_counts.most_common(4)"
   ]
  }
 ],
 "metadata": {
  "kernelspec": {
   "display_name": ".venv",
   "language": "python",
   "name": "python3"
  },
  "language_info": {
   "codemirror_mode": {
    "name": "ipython",
    "version": 3
   },
   "file_extension": ".py",
   "mimetype": "text/x-python",
   "name": "python",
   "nbconvert_exporter": "python",
   "pygments_lexer": "ipython3",
   "version": "3.13.2"
  }
 },
 "nbformat": 4,
 "nbformat_minor": 5
}
